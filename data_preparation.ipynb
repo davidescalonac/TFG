{
 "cells": [
  {
   "cell_type": "code",
   "execution_count": 1,
   "metadata": {},
   "outputs": [],
   "source": [
    "#Imports and working directory\n",
    "import numpy as np\n",
    "import pandas as pd\n",
    "from scipy.stats import zscore\n",
    "from sklearn.preprocessing import minmax_scale\n",
    "import matplotlib.pyplot as plt\n",
    "\n",
    "import os \n",
    "os.chdir(r'C:\\Users\\david\\Desktop\\TFG\\Implementación\\Model\\Data')\n",
    "\n",
    "#Open a console\n",
    "%qtconsole"
   ]
  },
  {
   "cell_type": "markdown",
   "metadata": {},
   "source": [
    "Load the data.\n",
    "\n",
    "adults_first_admission_v2.csv -Contains patient information and class\n",
    "\n",
    "SeverityScore_20200611.csv -Contains the features for the calculation of the Severity Score.\n",
    "\n",
    "The link between both dataframes is 'icustay_id'"
   ]
  },
  {
   "cell_type": "code",
   "execution_count": 2,
   "metadata": {},
   "outputs": [],
   "source": [
    "#Load the data\n",
    "\n",
    "#patient info\n",
    "adults = pd.read_csv('adults_first_admission_v2_20200611.csv')\n",
    "\n",
    "#severity scores\n",
    "sofa = pd.read_csv('sofa_20200611.csv')\n",
    "oasis = pd.read_csv('oasis_20200611.csv')\n",
    "saps = pd.read_csv('saps_20200611.csv')\n",
    "sapsii = pd.read_csv('sapsii_20200611.csv')\n",
    "\n",
    "#dictionary with the severity scores dataframes\n",
    "severity = {'sofa':sofa, 'oasis':oasis, 'saps':saps, 'sapsii':sapsii}"
   ]
  },
  {
   "cell_type": "markdown",
   "metadata": {},
   "source": [
    "Drop the columns that contain the feature scores (ie. heart rate score), the severity score (ie. sofa) and patient information except from 'icustay_id' in order to leave each dataframe with just the features used to calculate the severity score plus the id 'icustay_id'."
   ]
  },
  {
   "cell_type": "code",
   "execution_count": 19,
   "metadata": {},
   "outputs": [],
   "source": [
    "patient_info_cols = ['subject_id', 'hadm_id'] \n",
    "oasis_info_cols = ['icustay_age_group', 'hospital_expire_flag', 'icustay_expire_flag']\n",
    "sofa_scores = ['coagulation', 'respiration', 'liver', 'renal', 'cardiovascular', 'cns']\n",
    "\n",
    "for key in severity:\n",
    "    severity[key].drop(severity[key].filter(regex = '_score').columns, axis = 1, inplace = True)\n",
    "    severity[key].drop(severity[key].filter(regex = key).columns, axis = 1, inplace = True)\n",
    "    if key == 'sofa':\n",
    "        severity[key].drop(sofa_scores, axis = 1, inplace = True)\n",
    "    severity[key].drop(patient_info_cols, axis = 1, inplace = True)\n",
    "    if key == 'oasis':\n",
    "        severity[key].drop(oasis_info_cols, axis = 1, inplace = True)"
   ]
  },
  {
   "cell_type": "markdown",
   "metadata": {},
   "source": [
    "Now we want to get which columns have na values for each dataframe to decide how we will solve this missing values problems depending on the feature nature."
   ]
  },
  {
   "cell_type": "code",
   "execution_count": 20,
   "metadata": {},
   "outputs": [
    {
     "name": "stdout",
     "output_type": "stream",
     "text": [
      "---\n",
      "sofa\n",
      "---\n",
      "icustay_id            0\n",
      "pao2fio2          20341\n",
      "platelet            736\n",
      "bilirubin         22271\n",
      "dopamine          36872\n",
      "epinephrine       37362\n",
      "norepinephrine    34870\n",
      "dobutamine        38232\n",
      "map                 737\n",
      "gcs                 843\n",
      "creatinine          623\n",
      "uo                 1799\n",
      "dtype: int64\n",
      "---\n",
      "oasis\n",
      "---\n",
      "icustay_id            0\n",
      "age                   0\n",
      "preiculos             0\n",
      "gcs                 843\n",
      "heartrate_min       733\n",
      "heartrate_max       733\n",
      "meanbp_min          737\n",
      "meanbp_max          737\n",
      "resprate_min        787\n",
      "resprate_max        787\n",
      "tempc_min          1483\n",
      "tempc_max          1483\n",
      "uo                 1799\n",
      "mechvent              0\n",
      "electivesurgery       0\n",
      "dtype: int64\n",
      "---\n",
      "saps\n",
      "---\n",
      "icustay_id             0\n",
      "age                    0\n",
      "heartrate_min        733\n",
      "heartrate_max        733\n",
      "sysbp_min            763\n",
      "sysbp_max            763\n",
      "resprate_min         787\n",
      "resprate_max         787\n",
      "tempc_min           1483\n",
      "tempc_max           1483\n",
      "uo                  1799\n",
      "mechvent               0\n",
      "cpap               38048\n",
      "bun_min              630\n",
      "bun_max              630\n",
      "hematocrit_min       564\n",
      "hematocrit_max       564\n",
      "wbc_min              828\n",
      "wbc_max              828\n",
      "glucose_min          484\n",
      "glucose_max          484\n",
      "potassium_min        542\n",
      "potassium_max        542\n",
      "sodium_min           598\n",
      "sodium_max           598\n",
      "bicarbonate_min      903\n",
      "bicarbonate_max      903\n",
      "gcs                  843\n",
      "dtype: int64\n",
      "---\n",
      "sapsii\n",
      "---\n",
      "icustay_id             0\n",
      "age                    0\n",
      "heartrate_min        733\n",
      "heartrate_max        733\n",
      "sysbp_min            763\n",
      "sysbp_max            763\n",
      "tempc_min           1483\n",
      "tempc_max           1483\n",
      "pao2fio2           23841\n",
      "uo                  1799\n",
      "bun_max              630\n",
      "wbc_min              828\n",
      "wbc_max              828\n",
      "potassium_min        542\n",
      "potassium_max        542\n",
      "sodium_min           598\n",
      "sodium_max           598\n",
      "bicarbonate_min      903\n",
      "bicarbonate_max      903\n",
      "bilirubin_min      22271\n",
      "bilirubin_max      22271\n",
      "gcs                  843\n",
      "aids               38335\n",
      "hem                37564\n",
      "mets               36311\n",
      "admissiontype          0\n",
      "dtype: int64\n"
     ]
    }
   ],
   "source": [
    "for key in severity:\n",
    "    print('---')\n",
    "    print(key)\n",
    "    print('---')\n",
    "    print(severity[key].isnull().sum())  \n"
   ]
  },
  {
   "cell_type": "markdown",
   "metadata": {},
   "source": [
    "Now we will look at the distribution for some of the features (excluding the missing values)."
   ]
  },
  {
   "cell_type": "code",
   "execution_count": 30,
   "metadata": {},
   "outputs": [
    {
     "data": {
      "image/png": "[encoded data removed]",
      "text/plain": [
       "<Figure size 432x288 with 1 Axes>"
      ]
     },
     "metadata": {
      "needs_background": "light"
     },
     "output_type": "display_data"
    },
    {
     "data": {
      "image/png": "[encoded data removed]",
      "text/plain": [
       "<Figure size 432x288 with 1 Axes>"
      ]
     },
     "metadata": {
      "needs_background": "light"
     },
     "output_type": "display_data"
    },
    {
     "data": {
      "image/png": "[encoded data removed]",
      "text/plain": [
       "<Figure size 432x288 with 1 Axes>"
      ]
     },
     "metadata": {
      "needs_background": "light"
     },
     "output_type": "display_data"
    },
    {
     "data": {
      "image/png": "[encoded data removed]",
      "text/plain": [
       "<Figure size 432x288 with 1 Axes>"
      ]
     },
     "metadata": {
      "needs_background": "light"
     },
     "output_type": "display_data"
    },
    {
     "data": {
      "image/png": "[encoded data removed]",
      "text/plain": [
       "<Figure size 432x288 with 1 Axes>"
      ]
     },
     "metadata": {
      "needs_background": "light"
     },
     "output_type": "display_data"
    },
    {
     "data": {
      "image/png": "[encoded data removed]",
      "text/plain": [
       "<Figure size 432x288 with 1 Axes>"
      ]
     },
     "metadata": {
      "needs_background": "light"
     },
     "output_type": "display_data"
    }
   ],
   "source": [
    "cols = ['heartrate_min', 'heartrate_max', 'resprate_min', 'resprate_max', 'platelet', 'tempc_min']\n",
    "\n",
    "for c in cols:\n",
    "    for key in severity:\n",
    "        if c in severity[key].columns:\n",
    "            plt.hist(severity[key][c][~np.isnan(severity[key][c])], bins = 100)\n",
    "            plt.title(c + ' distribution')\n",
    "            plt.savefig('feature_distribution/' + c + '.png')\n",
    "            plt.show()\n",
    "            break\n",
    "    pass"
   ]
  },
  {
   "cell_type": "markdown",
   "metadata": {},
   "source": [
    "We will fill the missing values with 0 in the following cases\n",
    "    1. Flag features: where we know that values are [0,1] and nan means 0.\n",
    "    2. Substance administration features: this are features that contain the quantity of an administrated substance to a patient, if no substance was administrated, the feature contains nan which means 0.\n",
    "\n",
    "The rest of the features with missing values correspond to either laboratory events or charted events and will be filled with the gaussian distribution of the non-missing values.\n",
    "\n",
    "We observe that for pao2fio2 and bilirubin features the missing values are too many.\n",
    "For pao2fio2 that means ...\n",
    "For bilirubin that means most of the patients don't take the bilirubin test.\n",
    "    So we will test the performance of the model by filling the missing values with 0 and by directly removing the feature.\n",
    "    For the first try we will fill the missing values with 0."
   ]
  },
  {
   "cell_type": "code",
   "execution_count": 5,
   "metadata": {},
   "outputs": [],
   "source": [
    "flag_features_saps = ['cpap']\n",
    "flag_features_sapsii = ['aids', 'hem', 'mets']\n",
    "substance_features_sofa = ['dopamine', 'epinephrine', 'norepinephrine', 'dobutamine']\n",
    "\n",
    "too_many_missing_sofa = ['pao2fio2', 'bilirubin']\n",
    "too_many_missing_sapsii = ['pao2fio2', 'bilirubin_min', 'bilirubin_max']"
   ]
  },
  {
   "cell_type": "code",
   "execution_count": 6,
   "metadata": {},
   "outputs": [
    {
     "name": "stderr",
     "output_type": "stream",
     "text": [
      "C:\\Users\\david\\Anaconda3\\lib\\site-packages\\pandas\\core\\frame.py:4244: SettingWithCopyWarning: \n",
      "A value is trying to be set on a copy of a slice from a DataFrame\n",
      "\n",
      "See the caveats in the documentation: http://pandas.pydata.org/pandas-docs/stable/user_guide/indexing.html#returning-a-view-versus-a-copy\n",
      "  **kwargs\n"
     ]
    }
   ],
   "source": [
    "for key in severity:\n",
    "    if key == 'sofa':\n",
    "        severity[key][substance_features_sofa].fillna(0, inplace = True)\n",
    "        severity[key][too_many_missing_sofa].fillna(0, inplace = True)\n",
    "    if key == 'saps':\n",
    "        severity[key][flag_features_saps].fillna(0, inplace = True)\n",
    "    if key == 'sapsii':\n",
    "        severity[key][flag_features_sapsii].fillna(0, inplace = True)\n",
    "        severity[key][too_many_missing_sapsii].fillna(0, inplace = True)\n",
    "    #for the columns left with missing values, replace them with the gaussian distribution of the column\n",
    "    cols = severity[key].columns[severity[key].isna().any()].tolist()\n",
    "    for col in cols:\n",
    "        mu, sigma = severity[key][col].mean(), severity[key][col].std()\n",
    "        severity[key][col].fillna(np.random.normal(mu, sigma), inplace = True)  \n",
    "    \n",
    "    "
   ]
  },
  {
   "cell_type": "code",
   "execution_count": 7,
   "metadata": {},
   "outputs": [
    {
     "name": "stdout",
     "output_type": "stream",
     "text": [
      "---\n",
      "sofa\n",
      "---\n",
      "icustay_id        0\n",
      "pao2fio2          0\n",
      "platelet          0\n",
      "bilirubin         0\n",
      "dopamine          0\n",
      "epinephrine       0\n",
      "norepinephrine    0\n",
      "dobutamine        0\n",
      "map               0\n",
      "gcs               0\n",
      "creatinine        0\n",
      "uo                0\n",
      "dtype: int64\n",
      "---\n",
      "oasis\n",
      "---\n",
      "icustay_id         0\n",
      "age                0\n",
      "preiculos          0\n",
      "gcs                0\n",
      "heartrate_min      0\n",
      "heartrate_max      0\n",
      "meanbp_min         0\n",
      "meanbp_max         0\n",
      "resprate_min       0\n",
      "resprate_max       0\n",
      "tempc_min          0\n",
      "tempc_max          0\n",
      "uo                 0\n",
      "mechvent           0\n",
      "electivesurgery    0\n",
      "dtype: int64\n",
      "---\n",
      "saps\n",
      "---\n",
      "icustay_id         0\n",
      "age                0\n",
      "heartrate_min      0\n",
      "heartrate_max      0\n",
      "sysbp_min          0\n",
      "sysbp_max          0\n",
      "resprate_min       0\n",
      "resprate_max       0\n",
      "tempc_min          0\n",
      "tempc_max          0\n",
      "uo                 0\n",
      "mechvent           0\n",
      "cpap               0\n",
      "bun_min            0\n",
      "bun_max            0\n",
      "hematocrit_min     0\n",
      "hematocrit_max     0\n",
      "wbc_min            0\n",
      "wbc_max            0\n",
      "glucose_min        0\n",
      "glucose_max        0\n",
      "potassium_min      0\n",
      "potassium_max      0\n",
      "sodium_min         0\n",
      "sodium_max         0\n",
      "bicarbonate_min    0\n",
      "bicarbonate_max    0\n",
      "gcs                0\n",
      "dtype: int64\n",
      "---\n",
      "sapsii\n",
      "---\n",
      "icustay_id         0\n",
      "age                0\n",
      "heartrate_min      0\n",
      "heartrate_max      0\n",
      "sysbp_min          0\n",
      "sysbp_max          0\n",
      "tempc_min          0\n",
      "tempc_max          0\n",
      "pao2fio2           0\n",
      "uo                 0\n",
      "bun_max            0\n",
      "wbc_min            0\n",
      "wbc_max            0\n",
      "potassium_min      0\n",
      "potassium_max      0\n",
      "sodium_min         0\n",
      "sodium_max         0\n",
      "bicarbonate_min    0\n",
      "bicarbonate_max    0\n",
      "bilirubin_min      0\n",
      "bilirubin_max      0\n",
      "gcs                0\n",
      "aids               0\n",
      "hem                0\n",
      "mets               0\n",
      "admissiontype      0\n",
      "dtype: int64\n"
     ]
    }
   ],
   "source": [
    "#Check there are no missing values anymore\n",
    "for key in severity:\n",
    "    print('---')\n",
    "    print(key)\n",
    "    print('---')\n",
    "    print(severity[key].isnull().sum())"
   ]
  },
  {
   "cell_type": "markdown",
   "metadata": {},
   "source": [
    "After filling the missing values we will perform Z-Score Normalization and One-Hot Encoding for numerical and categorical features respectively.\n",
    "\n",
    "The only categorical feature is 'admissiontype' from the sapsii dataframe.\n",
    "\n",
    "We can define the numerical features as the features where the list of unique values has more than 2 elements. In case of the flag features, which are not numerical features, the list of unique values is [0,1] so by taking list with length greater than 2 we are avoiding to incorrectly transform the flag features.\n",
    "\n",
    "We also need to transform the column 'preiculos' from the oasis dataframe which have a format like 'X days hh:mm:ss' in string type. We will take into account just the days of pre-icu length of stay."
   ]
  },
  {
   "cell_type": "code",
   "execution_count": 8,
   "metadata": {
    "scrolled": true
   },
   "outputs": [
    {
     "name": "stderr",
     "output_type": "stream",
     "text": [
      "C:\\Users\\david\\Anaconda3\\lib\\site-packages\\pandas\\core\\indexing.py:205: SettingWithCopyWarning: \n",
      "A value is trying to be set on a copy of a slice from a DataFrame\n",
      "\n",
      "See the caveats in the documentation: http://pandas.pydata.org/pandas-docs/stable/user_guide/indexing.html#returning-a-view-versus-a-copy\n",
      "  self._setitem_with_indexer(indexer, value)\n"
     ]
    }
   ],
   "source": [
    "severity['sapsii'] = pd.get_dummies(data=severity['sapsii'], columns=['admissiontype'])\n",
    "\n",
    "severity['oasis']['preiculos'].loc[~severity['oasis']['preiculos'].str.contains('days')] = '0'\n",
    "splitted = severity['oasis']['preiculos'].str.split('days', expand = True) \n",
    "severity['oasis']['preiculos'] = splitted[0].astype(int)\n",
    "\n",
    "def sigmoid(x):\n",
    "    y = 1/(1 + np.exp(-x))\n",
    "    return y\n",
    "\n",
    "for key in severity:\n",
    "    cols = [x for x in severity[key].columns if x != 'icustay_id' and len(severity[key][x].unique()) > 2]\n",
    "    Zscore\n",
    "    #severity[key][cols] = severity[key][cols].apply(zscore)\n",
    "    \n",
    "    #Min-Max Scaling\n",
    "    #severity[key][cols] = minmax_scale(severity[key][cols])\n",
    "    \n",
    "    #Sigmoid\n",
    "    #severity[key][cols] = severity[key][cols].apply(sigmoid)"
   ]
  },
  {
   "cell_type": "markdown",
   "metadata": {},
   "source": [
    "Before we can start with the deep learning model implementation, we have to merge the feature dataframes with the 'adults' dataframe to get the class of each patient, having icustay_id as the index."
   ]
  },
  {
   "cell_type": "code",
   "execution_count": 9,
   "metadata": {},
   "outputs": [],
   "source": [
    "for key in severity:\n",
    "    severity[key] = pd.merge(severity[key], adults[['icustay_id', 'clase']], on = 'icustay_id')\n",
    "    severity[key].set_index('icustay_id', inplace = True)"
   ]
  },
  {
   "cell_type": "markdown",
   "metadata": {},
   "source": [
    "Save each dataframe in csv.\n",
    "\n"
   ]
  },
  {
   "cell_type": "code",
   "execution_count": 10,
   "metadata": {},
   "outputs": [],
   "source": [
    "for key in severity:\n",
    "    severity[key].to_csv(key+'_processed.csv', index = True)"
   ]
  }
 ],
 "metadata": {
  "kernelspec": {
   "display_name": "Python 3",
   "language": "python",
   "name": "python3"
  },
  "language_info": {
   "codemirror_mode": {
    "name": "ipython",
    "version": 3
   },
   "file_extension": ".py",
   "mimetype": "text/x-python",
   "name": "python",
   "nbconvert_exporter": "python",
   "pygments_lexer": "ipython3",
   "version": "3.7.4"
  }
 },
 "nbformat": 4,
 "nbformat_minor": 2
}
