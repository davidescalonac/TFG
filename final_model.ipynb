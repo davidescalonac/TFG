{
 "cells": [
  {
   "cell_type": "code",
   "execution_count": 1,
   "metadata": {
    "_cell_guid": "b1076dfc-b9ad-4769-8c92-a6c4dae69d19",
    "_uuid": "8f2839f25d086af736a60e9eeb907d3b93b6e0e5"
   },
   "outputs": [
    {
     "name": "stderr",
     "output_type": "stream",
     "text": [
      "Using TensorFlow backend.\n"
     ]
    },
    {
     "name": "stdout",
     "output_type": "stream",
     "text": [
      "/kaggle/input/severity-features-sigmoid/sofa_processed_sigmoid.csv\n",
      "/kaggle/input/severity-features-sigmoid/saps_processed_sigmoid.csv\n",
      "/kaggle/input/severity-features-sigmoid/oasis_processed_sigmoid.csv\n",
      "/kaggle/input/severity-features-sigmoid/sapsii_processed_sigmoid.csv\n",
      "/kaggle/input/severity-features/sapsii_processed.csv\n",
      "/kaggle/input/severity-features/saps_processed.csv\n",
      "/kaggle/input/severity-features/sofa_processed.csv\n",
      "/kaggle/input/severity-features/oasis_processed.csv\n",
      "/kaggle/input/severity-features-minmax-scaling/sofa_processed_min_max.csv\n",
      "/kaggle/input/severity-features-minmax-scaling/sapsii_processed_min_max.csv\n",
      "/kaggle/input/severity-features-minmax-scaling/saps_processed_min_max.csv\n",
      "/kaggle/input/severity-features-minmax-scaling/oasis_processed_min_max.csv\n",
      "/kaggle/input/last-icustay/last_icustay_20200614.csv\n",
      "/kaggle/input/optimized-model/optimized_model.h5\n"
     ]
    }
   ],
   "source": [
    "# This Python 3 environment comes with many helpful analytics libraries installed\n",
    "# It is defined by the kaggle/python Docker image: https://github.com/kaggle/docker-python\n",
    "# For example, here's several helpful packages to load\n",
    "\n",
    "import numpy as np # linear algebra\n",
    "import pandas as pd # data processing, CSV file I/O (e.g. pd.read_csv)\n",
    "\n",
    "from keras.wrappers.scikit_learn import KerasClassifier\n",
    "from keras.models import Sequential\n",
    "from keras.layers import Dense, Dropout\n",
    "\n",
    "from sklearn.model_selection import cross_validate, StratifiedKFold\n",
    "\n",
    "from imblearn.over_sampling import SMOTE\n",
    "\n",
    "# Input data files are available in the read-only \"../input/\" directory\n",
    "# For example, running this (by clicking run or pressing Shift+Enter) will list all files under the input directory\n",
    "\n",
    "import os\n",
    "for dirname, _, filenames in os.walk('/kaggle/input'):\n",
    "    for filename in filenames:\n",
    "        print(os.path.join(dirname, filename))\n",
    "\n",
    "# You can write up to 5GB to the current directory (/kaggle/working/) that gets preserved as output when you create a version using \"Save & Run All\" \n",
    "# You can also write temporary files to /kaggle/temp/, but they won't be saved outside of the current session"
   ]
  },
  {
   "cell_type": "code",
   "execution_count": 2,
   "metadata": {
    "_cell_guid": "79c7e3d0-c299-4dcb-8224-4455121ee9b0",
    "_uuid": "d629ff2d2480ee46fbb7e2d37f6b5fab8052498a"
   },
   "outputs": [],
   "source": [
    "#Load the data\n",
    "last_icustay = pd.read_csv(r'/kaggle/input/last-icustay/last_icustay_20200614.csv', index_col = 'icustay_id')\n",
    "\n",
    "#severity scores features (Z-Score)\n",
    "sofa = pd.read_csv(r'/kaggle/input/severity-features/sofa_processed.csv', index_col = 'icustay_id')\n",
    "oasis = pd.read_csv(r'/kaggle/input/severity-features/oasis_processed.csv', index_col = 'icustay_id')\n",
    "saps = pd.read_csv(r'/kaggle/input/severity-features/saps_processed.csv', index_col = 'icustay_id')\n",
    "sapsii = pd.read_csv(r'/kaggle/input/severity-features/sapsii_processed.csv', index_col = 'icustay_id')\n",
    "'''\n",
    "#severity scores features (Min-Max Scaling)\n",
    "sofa = pd.read_csv(r'/kaggle/input/severity-features-minmax-scaling/sofa_processed_min_max.csv', index_col = 'icustay_id')\n",
    "oasis = pd.read_csv(r'/kaggle/input/severity-features-minmax-scaling/oasis_processed_min_max.csv', index_col = 'icustay_id')\n",
    "saps = pd.read_csv(r'/kaggle/input/severity-features-minmax-scaling/saps_processed_min_max.csv', index_col = 'icustay_id')\n",
    "sapsii = pd.read_csv(r'/kaggle/input/severity-features-minmax-scaling/sapsii_processed_min_max.csv', index_col = 'icustay_id')\n",
    "\n",
    "#severity scores features (Sigmoid Transformation)\n",
    "sofa = pd.read_csv(r'/kaggle/input/severity-features-sigmoid/sofa_processed_sigmoid.csv', index_col = 'icustay_id')\n",
    "oasis = pd.read_csv(r'/kaggle/input/severity-features-sigmoid/oasis_processed_sigmoid.csv', index_col = 'icustay_id')\n",
    "saps = pd.read_csv(r'/kaggle/input/severity-features-sigmoid/saps_processed_sigmoid.csv', index_col = 'icustay_id')\n",
    "sapsii = pd.read_csv(r'/kaggle/input/severity-features-sigmoid/sapsii_processed_sigmoid.csv', index_col = 'icustay_id')\n",
    "'''\n",
    "#dictionary with the severity scores dataframes\n",
    "severity = {'sofa': sofa, 'oasis': oasis, 'saps': saps, 'sapsii': sapsii}"
   ]
  },
  {
   "cell_type": "code",
   "execution_count": 3,
   "metadata": {},
   "outputs": [],
   "source": [
    "for key in severity:\n",
    "    severity[key] = severity[key].loc[severity[key].index.isin(last_icustay.index)]\n",
    "    if key == 'sofa':\n",
    "        full_features = severity[key]\n",
    "    else:\n",
    "        full_features = pd.concat([full_features, \\\n",
    "                        severity[key][severity[key].columns[~severity[key].columns.isin(full_features.columns)]]], axis=1)\n",
    "\n",
    "severity = {'full features': full_features}"
   ]
  },
  {
   "cell_type": "code",
   "execution_count": 4,
   "metadata": {},
   "outputs": [],
   "source": [
    "def create_model(input_dim = 0, dropout = 0.2, optimizer = 'Adam', \\\n",
    "                    nodes_hidden_1 = 60, nodes_hidden_2 = 35):\n",
    "    model = Sequential()\n",
    "\n",
    "    model.add(Dense(nodes_hidden_1, activation = 'relu', input_dim = input_dim, \\\n",
    "                        kernel_initializer='random_uniform', bias_initializer='zeros'))\n",
    "    model.add(Dropout(dropout))\n",
    "    \n",
    "    model.add(Dense(nodes_hidden_2, activation = 'relu', \\\n",
    "                        kernel_initializer='random_uniform', bias_initializer='zeros'))\n",
    "    model.add(Dropout(dropout))\n",
    "\n",
    "    model.add(Dense(2, activation = 'softmax'))\n",
    "    \n",
    "    model.compile(loss='categorical_crossentropy', optimizer=optimizer, metrics=['accuracy'])\n",
    "    return model"
   ]
  },
  {
   "cell_type": "code",
   "execution_count": 5,
   "metadata": {},
   "outputs": [],
   "source": [
    "def oversampling(X, y):\n",
    "    smote = SMOTE()\n",
    "    X_sm, y_sm = smote.fit_sample(X, y)\n",
    "    return X_sm, y_sm"
   ]
  },
  {
   "cell_type": "code",
   "execution_count": 6,
   "metadata": {},
   "outputs": [],
   "source": [
    "kfolds = StratifiedKFold(n_splits=10)"
   ]
  },
  {
   "cell_type": "code",
   "execution_count": 9,
   "metadata": {},
   "outputs": [],
   "source": [
    "#Scores\n",
    "metrics = {'accuracy': 'test_accuracy', 'roc_auc': 'test_roc_auc',\\\n",
    "           'f1': 'test_f1', 'precision': 'test_precision', 'recall': 'test_recall'}\n",
    "\n",
    "scores = {}\n",
    "\n",
    "for key in severity:\n",
    "    X_train, y_train = severity[key].drop(columns = ['clase']), severity[key]['clase']\n",
    "    X_train, y_train = oversampling(X_train, y_train)\n",
    "    \n",
    "    params = {'input_dim': len(X_train.values[0]), 'optimizer': 'Adam', 'dropout': 0.2, \\\n",
    "                 'hidden_1': 60, 'hidden_2': 35}\n",
    "    \n",
    "    model = KerasClassifier(build_fn = create_model, input_dim = params['input_dim'], \\\n",
    "                            dropout = params['dropout'], optimizer = params['optimizer'], \\\n",
    "                            nodes_hidden_1 = params['hidden_1'], nodes_hidden_2 = params['hidden_2'], \\\n",
    "                            batch_size = 100, epochs = 150, verbose = 0)\n",
    "    #model = KerasClassifier(build_fn = load_optimized_model, \\\n",
    "                                        #batch_size = 100, epochs = 150, verbose = 0)\n",
    "    scores[key] = cross_validate(estimator = model, X = X_train, y = y_train, cv = kfolds, \\\n",
    "                                    scoring = list(metrics.keys()), n_jobs = -1)\n",
    "    #scores[key] = cross_validate(estimator = optimized_model, X = X_train, y = y_train, cv = kfolds, \\\n",
    "                                    #scoring = list(metrics.keys()))\n"
   ]
  },
  {
   "cell_type": "code",
   "execution_count": 10,
   "metadata": {},
   "outputs": [
    {
     "name": "stdout",
     "output_type": "stream",
     "text": [
      "full features\n",
      "---\n",
      "accuracy\n",
      "mean 0.8969693133304301\n",
      "std 0.02147860846637141\n",
      "***\n",
      "roc_auc\n",
      "mean 0.9609733885167013\n",
      "std 0.01315888217355979\n",
      "***\n",
      "f1\n",
      "mean 0.8991032460471\n",
      "std 0.025136727481206333\n",
      "***\n",
      "precision\n",
      "mean 0.876311329360492\n",
      "std 0.009977747995499914\n",
      "***\n",
      "recall\n",
      "mean 0.9245848103157813\n",
      "std 0.048545414400955375\n",
      "***\n"
     ]
    }
   ],
   "source": [
    "results = {}\n",
    "\n",
    "for key in severity:\n",
    "    print(key)\n",
    "    print('---')\n",
    "    for metric in metrics:\n",
    "        print(metric)\n",
    "        print('mean', scores[key][metrics[metric]].mean())\n",
    "        print('std', scores[key][metrics[metric]].std())\n",
    "        print('***')\n",
    "        results[metric] = [scores[key][metrics[metric]].mean(), scores[key][metrics[metric]].std()]\n",
    "        \n",
    "#Save results in csv\n",
    "results = pd.DataFrame.from_dict(results, orient='index', columns = ['mean', 'std'])\n",
    "results.to_csv('results_v9_pao2bilirrubin.csv', index = True)"
   ]
  }
 ],
 "metadata": {
  "kernelspec": {
   "display_name": "Python 3",
   "language": "python",
   "name": "python3"
  },
  "language_info": {
   "codemirror_mode": {
    "name": "ipython",
    "version": 3
   },
   "file_extension": ".py",
   "mimetype": "text/x-python",
   "name": "python",
   "nbconvert_exporter": "python",
   "pygments_lexer": "ipython3",
   "version": "3.7.4"
  }
 },
 "nbformat": 4,
 "nbformat_minor": 4
}
