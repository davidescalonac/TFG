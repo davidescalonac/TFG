{
 "cells": [
  {
   "cell_type": "code",
   "execution_count": null,
   "metadata": {},
   "outputs": [],
   "source": [
    "# This Python 3 environment comes with many helpful analytics libraries installed\n",
    "# It is defined by the kaggle/python Docker image: https://github.com/kaggle/docker-python\n",
    "# For example, here's several helpful packages to load\n",
    "\n",
    "import numpy as np # linear algebra\n",
    "import pandas as pd # data processing, CSV file I/O (e.g. pd.read_csv)\n",
    "\n",
    "from keras.wrappers.scikit_learn import KerasClassifier\n",
    "from keras.models import Sequential\n",
    "from keras.layers import Dense, Dropout\n",
    "\n",
    "from sklearn.model_selection import GridSearchCV, StratifiedKFold\n",
    "\n",
    "from imblearn.over_sampling import SMOTE\n",
    "\n",
    "# Input data files are available in the read-only \"../input/\" directory\n",
    "# For example, running this (by clicking run or pressing Shift+Enter) will list all files under the input directory\n",
    "\n",
    "import os\n",
    "for dirname, _, filenames in os.walk('/kaggle/input'):\n",
    "    for filename in filenames:\n",
    "        print(os.path.join(dirname, filename))\n",
    "\n",
    "# You can write up to 5GB to the current directory (/kaggle/working/) that gets preserved as output when you create a version using \"Save & Run All\" \n",
    "# You can also write temporary files to /kaggle/temp/, but they won't be saved outside of the current session"
   ]
  },
  {
   "cell_type": "code",
   "execution_count": null,
   "metadata": {},
   "outputs": [],
   "source": [
    "#Load the data\n",
    "last_icustay = pd.read_csv(r'/kaggle/input/last-icustay/last_icustay_20200614.csv', index_col = 'icustay_id')\n",
    "\n",
    "#severity scores features (Z-Score)\n",
    "sofa = pd.read_csv(r'/kaggle/input/severity-features/sofa_processed.csv', index_col = 'icustay_id')\n",
    "oasis = pd.read_csv(r'/kaggle/input/severity-features/oasis_processed.csv', index_col = 'icustay_id')\n",
    "saps = pd.read_csv(r'/kaggle/input/severity-features/saps_processed.csv', index_col = 'icustay_id')\n",
    "sapsii = pd.read_csv(r'/kaggle/input/severity-features/sapsii_processed.csv', index_col = 'icustay_id')\n",
    "'''\n",
    "#severity scores features (Min-Max Scaling)\n",
    "sofa = pd.read_csv(r'/kaggle/input/severity-features-minmax-scaling/sofa_processed_min_max.csv', index_col = 'icustay_id')\n",
    "oasis = pd.read_csv(r'/kaggle/input/severity-features-minmax-scaling/oasis_processed_min_max.csv', index_col = 'icustay_id')\n",
    "saps = pd.read_csv(r'/kaggle/input/severity-features-minmax-scaling/saps_processed_min_max.csv', index_col = 'icustay_id')\n",
    "sapsii = pd.read_csv(r'/kaggle/input/severity-features-minmax-scaling/sapsii_processed_min_max.csv', index_col = 'icustay_id')\n",
    "\n",
    "#severity scores features (Sigmoid Transformation)\n",
    "sofa = pd.read_csv(r'/kaggle/input/severity-features-sigmoid/sofa_processed_sigmoid.csv', index_col = 'icustay_id')\n",
    "oasis = pd.read_csv(r'/kaggle/input/severity-features-sigmoid/oasis_processed_sigmoid.csv', index_col = 'icustay_id')\n",
    "saps = pd.read_csv(r'/kaggle/input/severity-features-sigmoid/saps_processed_sigmoid.csv', index_col = 'icustay_id')\n",
    "sapsii = pd.read_csv(r'/kaggle/input/severity-features-sigmoid/sapsii_processed_sigmoid.csv', index_col = 'icustay_id')\n",
    "'''\n",
    "#dictionary with the severity scores dataframes\n",
    "severity = {'sofa': sofa, 'oasis': oasis, 'saps': saps, 'sapsii': sapsii}"
   ]
  },
  {
   "cell_type": "code",
   "execution_count": null,
   "metadata": {},
   "outputs": [],
   "source": [
    "for key in severity:\n",
    "    severity[key] = severity[key].loc[severity[key].index.isin(last_icustay.index)]\n",
    "    if key == 'sofa':\n",
    "        full_features = severity[key]\n",
    "    else:\n",
    "        full_features = pd.concat([full_features, \\\n",
    "                        severity[key][severity[key].columns[~severity[key].columns.isin(full_features.columns)]]], axis=1)\n",
    "\n",
    "severity = {'full features': full_features}"
   ]
  },
  {
   "cell_type": "code",
   "execution_count": null,
   "metadata": {},
   "outputs": [],
   "source": [
    "def create_model(input_dim = 0, dropout = 0.2, optimizer = 'Adadelta', \\\n",
    "                    nodes_hidden_1 = 50, nodes_hidden_2 = 25):\n",
    "    model = Sequential()\n",
    "\n",
    "    model.add(Dense(nodes_hidden_1, activation = 'relu', input_dim = input_dim, \\\n",
    "                        kernel_initializer='random_uniform', bias_initializer='zeros'))\n",
    "    model.add(Dropout(dropout))\n",
    "    \n",
    "    model.add(Dense(nodes_hidden_2, activation = 'relu', \\\n",
    "                        kernel_initializer='random_uniform', bias_initializer='zeros'))\n",
    "    model.add(Dropout(dropout))\n",
    "\n",
    "    model.add(Dense(2, activation = 'softmax'))\n",
    "    \n",
    "    model.compile(loss='categorical_crossentropy', optimizer=optimizer, metrics=['accuracy'])\n",
    "    return model"
   ]
  },
  {
   "cell_type": "code",
   "execution_count": null,
   "metadata": {},
   "outputs": [],
   "source": [
    "def oversampling(X, y):\n",
    "    smote = SMOTE()\n",
    "    X_sm, y_sm = smote.fit_sample(X, y)\n",
    "    return X_sm, y_sm"
   ]
  },
  {
   "cell_type": "code",
   "execution_count": null,
   "metadata": {},
   "outputs": [],
   "source": [
    "kfolds = StratifiedKFold(n_splits=10)"
   ]
  },
  {
   "cell_type": "code",
   "execution_count": null,
   "metadata": {},
   "outputs": [],
   "source": [
    "#GridSearch\n",
    "for key in severity:\n",
    "    X_train, y_train = severity[key].drop(columns = ['clase']), severity[key]['clase']\n",
    "    X_train, y_train = oversampling(X_train, y_train)\n",
    "    model = KerasClassifier(build_fn = create_model, input_dim = len(X_train.values[0]), \\\n",
    "                                        batch_size = 100, epochs = 150, verbose = 0)\n",
    "    \n",
    "    # define the grid search parameters\n",
    "    optimizer = ['Adadelta', 'Adam']\n",
    "    dropout = [0.2, 0.4]\n",
    "    nodes_hidden_1 = [40, 50, 60]\n",
    "    nodes_hidden_2 = [25, 30, 35]\n",
    "    \n",
    "    param_grid = dict(optimizer = optimizer, dropout = dropout, \\\n",
    "                            nodes_hidden_1 = nodes_hidden_1, nodes_hidden_2 = nodes_hidden_2)\n",
    "    \n",
    "    grid = GridSearchCV(estimator=model, param_grid=param_grid, cv = kfolds, \\\n",
    "                        scoring = 'recall', n_jobs = -1)\n",
    "    grid_result = grid.fit(X_train, y_train)\n",
    "    \n",
    "    # summarize results\n",
    "    print('Recall Results')\n",
    "    print(\"Best: %f using %s\" % (grid_result.best_score_, grid_result.best_params_))\n",
    "    print('------------------------')\n",
    "    means = grid_result.cv_results_['mean_test_score']\n",
    "    stds = grid_result.cv_results_['std_test_score']\n",
    "    params = grid_result.cv_results_['params']\n",
    "    for mean, stdev, param in zip(means, stds, params):\n",
    "        print(\"%f (%f) with: %r\" % (mean, stdev, param))\n",
    "    \n",
    "    print('------------------------')\n",
    "    \n",
    "    #save the best estimator\n",
    "    grid.best_estimator_.model.save('optimized_model.h5')"
   ]
  }
 ],
 "metadata": {
  "kernelspec": {
   "display_name": "Python 3",
   "language": "python",
   "name": "python3"
  },
  "language_info": {
   "codemirror_mode": {
    "name": "ipython",
    "version": 3
   },
   "file_extension": ".py",
   "mimetype": "text/x-python",
   "name": "python",
   "nbconvert_exporter": "python",
   "pygments_lexer": "ipython3",
   "version": "3.7.4"
  }
 },
 "nbformat": 4,
 "nbformat_minor": 2
}
